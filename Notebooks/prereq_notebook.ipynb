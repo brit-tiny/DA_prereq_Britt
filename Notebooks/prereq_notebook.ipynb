{
 "cells": [
  {
   "cell_type": "markdown",
   "id": "eef104ca",
   "metadata": {},
   "source": [
    "I am excited to start the Data Analysis Pathway."
   ]
  },
  {
   "cell_type": "code",
   "execution_count": null,
   "id": "d70d20fd",
   "metadata": {},
   "outputs": [],
   "source": [
    "print(\"This is my first notebook\")"
   ]
  }
 ],
 "metadata": {
  "language_info": {
   "name": "python"
  }
 },
 "nbformat": 4,
 "nbformat_minor": 5
}
